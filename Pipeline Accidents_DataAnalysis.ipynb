{
 "cells": [
  {
   "cell_type": "markdown",
   "source": [
    "<h1>Exploratory Data Analysis of Pipeline Accident Dataset </h1>"
   ],
   "metadata": {}
  },
  {
   "cell_type": "markdown",
   "source": [],
   "metadata": {}
  }
 ],
 "metadata": {
  "orig_nbformat": 4,
  "language_info": {
   "name": "python"
  }
 },
 "nbformat": 4,
 "nbformat_minor": 2
}